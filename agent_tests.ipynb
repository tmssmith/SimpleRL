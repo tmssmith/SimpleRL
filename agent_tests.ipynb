{
 "cells": [
  {
   "cell_type": "code",
   "execution_count": null,
   "metadata": {},
   "outputs": [],
   "source": [
    "%load_ext autoreload"
   ]
  },
  {
   "cell_type": "code",
   "execution_count": null,
   "metadata": {},
   "outputs": [],
   "source": [
    "%autoreload now"
   ]
  },
  {
   "cell_type": "code",
   "execution_count": null,
   "metadata": {},
   "outputs": [],
   "source": [
    "from simple_rl.agents import QLearningAgent, SARSAAgent, ValueIterationAgent, DynaQAgent\n",
    "from simple_rl.utils import plotting"
   ]
  },
  {
   "cell_type": "code",
   "execution_count": null,
   "metadata": {},
   "outputs": [],
   "source": [
    "import multilevelsuccessoroptions.envs.tabular as envs\n",
    "# import multilevelsuccessoroptions.utils.plotting as plotting\n",
    "from multilevelsuccessoroptions.options.tabular.hierarchical_access_options import HAOS_Generator\n",
    "from multilevelsuccessoroptions.successor_representation import SuccessorRepresentation"
   ]
  },
  {
   "cell_type": "code",
   "execution_count": null,
   "metadata": {},
   "outputs": [],
   "source": [
    "from simpleoptions import PrimitiveOption"
   ]
  },
  {
   "cell_type": "code",
   "execution_count": null,
   "metadata": {},
   "outputs": [],
   "source": [
    "import hdbscan\n",
    "import numpy as np\n",
    "from numpy.random import default_rng\n",
    "import matplotlib as mpl\n",
    "import matplotlib.colors as colors\n",
    "import matplotlib.pyplot as plt"
   ]
  },
  {
   "cell_type": "code",
   "execution_count": null,
   "metadata": {},
   "outputs": [],
   "source": [
    "seed = 12345\n",
    "rng = default_rng(seed)\n",
    "env = envs.FourRooms(rng, exploration=False)"
   ]
  },
  {
   "cell_type": "code",
   "execution_count": null,
   "metadata": {},
   "outputs": [],
   "source": [
    "primitives = [PrimitiveOption(a,env) for a in env.get_action_space()]\n",
    "env.set_options(primitives)\n",
    "\n",
    "# gamma = 0.99\n",
    "# min_cluster_size = 9\n",
    "# min_samples = 5\n",
    "\n",
    "# sr = SuccessorRepresentation(env,gamma,0.2,True)\n",
    "# model = hdbscan.HDBSCAN(min_cluster_size=min_cluster_size, min_samples=min_samples, cluster_selection_method='eom',gen_min_span_tree=True, approx_min_span_tree=False,prediction_data=True, allow_single_cluster=False)\n",
    "# gtr = HAOS_Generator(sr, model, rng, exploration_steps = 500_000, training_steps = 0, cut_off = 1_000, n_step_updates = True, multiprocessing = False, termination_factor = 1.0, alpha = 0.2, gamma = 1.0)\n",
    "# gtr.generate_options(env)"
   ]
  },
  {
   "cell_type": "code",
   "execution_count": null,
   "metadata": {},
   "outputs": [],
   "source": [
    "# termination_chances = gtr.options_dict[\"105_106\"].termination_chance\n",
    "# env = envs.FourRoomsStochasticTermination(rng, termination_chances, False, 0.0)"
   ]
  },
  {
   "cell_type": "code",
   "execution_count": null,
   "metadata": {},
   "outputs": [],
   "source": [
    "# plotting.plot_maze_env(env);"
   ]
  },
  {
   "cell_type": "code",
   "execution_count": null,
   "metadata": {},
   "outputs": [],
   "source": [
    "actions = env.get_action_space()"
   ]
  },
  {
   "cell_type": "code",
   "execution_count": null,
   "metadata": {},
   "outputs": [],
   "source": [
    "q_agent = QLearningAgent(rng, actions, 0.99, 0.4, 0.2, 1.0, 0.0)\n",
    "q_agent.run(env, int(1e6))"
   ]
  },
  {
   "cell_type": "code",
   "execution_count": null,
   "metadata": {},
   "outputs": [],
   "source": [
    "plotting.plot_agent_policy(q_agent,env)"
   ]
  },
  {
   "cell_type": "code",
   "execution_count": null,
   "metadata": {},
   "outputs": [],
   "source": [
    "sarsa_agent = SARSAAgent(rng, actions, 0.99, 0.4, 0.2, 1.0, 0.0)\n",
    "sarsa_agent.run(env,int(1e6))"
   ]
  },
  {
   "cell_type": "code",
   "execution_count": null,
   "metadata": {},
   "outputs": [],
   "source": [
    "plotting.plot_agent_policy(sarsa_agent,env)"
   ]
  },
  {
   "cell_type": "code",
   "execution_count": null,
   "metadata": {},
   "outputs": [],
   "source": [
    "value_iteration_agent = ValueIterationAgent(rng, actions, 0.99, 1e-15, 1.0)\n",
    "value_iteration_agent.run(env,None)"
   ]
  },
  {
   "cell_type": "code",
   "execution_count": null,
   "metadata": {},
   "outputs": [],
   "source": [
    "plotting.plot_agent_policy(value_iteration_agent,env)"
   ]
  },
  {
   "cell_type": "code",
   "execution_count": null,
   "metadata": {},
   "outputs": [],
   "source": [
    "num_layers = 2\n",
    "ratio_sum = sum([(n + 1) / (num_layers + 1) for n in range(num_layers + 1)])\n",
    "p = [(n + 1) / ((num_layers + 1) * ratio_sum) for n in range(num_layers + 1)]\n",
    "print(p)"
   ]
  },
  {
   "cell_type": "code",
   "execution_count": null,
   "metadata": {},
   "outputs": [],
   "source": [
    "dyna_agent = DynaQAgent(rng, actions, 0.99, 0.2, 0.2, 10, 1.0, 0.0)\n",
    "dyna_agent.run(env, 500)"
   ]
  },
  {
   "cell_type": "code",
   "execution_count": null,
   "metadata": {},
   "outputs": [],
   "source": [
    "plotting.plot_agent_policy(dyna_agent,env)\n"
   ]
  }
 ],
 "metadata": {
  "kernelspec": {
   "display_name": "simple-rl-u0jJYeS5-py3.10",
   "language": "python",
   "name": "python3"
  },
  "language_info": {
   "codemirror_mode": {
    "name": "ipython",
    "version": 3
   },
   "file_extension": ".py",
   "mimetype": "text/x-python",
   "name": "python",
   "nbconvert_exporter": "python",
   "pygments_lexer": "ipython3",
   "version": "3.10.4"
  }
 },
 "nbformat": 4,
 "nbformat_minor": 2
}
